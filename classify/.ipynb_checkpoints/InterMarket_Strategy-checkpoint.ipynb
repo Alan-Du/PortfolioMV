{
 "cells": [
  {
   "cell_type": "markdown",
   "metadata": {},
   "source": [
    "## Market classification based on intermarket indicators\n",
    "--- Alan, Shaolun.du@gmail.com\n",
    "\n",
    "Intermarket correlation is always significant...\n",
    "In this notebook, I am trying to classify SP500 market index based on Fed fund rate, US government bond yields spread of 10Y-2Y and 30Y-10Y, gold price and dollar index for the past 20 years.\n",
    "Specifically, I will do the following:\n",
    "0. Data preprocess:\n",
    "    * label historical data with 0-4 categories (0=short,2=oscillation,4=long)\n",
    "    * feature smoothing and normalization\n",
    "1. Build model:\n",
    "    * setup layers, specify the model\n",
    "    * split dataset into dev/test set\n",
    "2. Trian model:\n",
    "    * feed and calibrate model based on dev model\n",
    "    * evaluate model based on dev set\n",
    "    * make prediction and verify predictions on test set\n",
    "3. Use trained model for ongoing new data"
   ]
  },
  {
   "cell_type": "markdown",
   "metadata": {},
   "source": [
    "### 0. Import library"
   ]
  },
  {
   "cell_type": "code",
   "execution_count": 1,
   "metadata": {},
   "outputs": [],
   "source": [
    "# Data loading\n",
    "%matplotlib inline\n",
    "import math\n",
    "import pandas as pd\n",
    "import numpy as np\n",
    "import datetime as dt\n",
    "import matplotlib.pyplot as plt\n",
    "from scipy.signal import savgol_filter\n",
    "from abc import ABC, abstractmethod\n",
    "# Tensorflow\n",
    "import tensorflow as tf\n",
    "from tensorflow import keras\n",
    "from sklearn import preprocessing\n",
    "# Global variable declaration\n",
    "_r_f = 0.001 # rsik free rate\n",
    "_day_year = 252 # trading days in a year\n",
    "rets = lambda x: (x[-1] - x[0]) / x[0]\n",
    "diffs = lambda x: x[-1] - x[0]"
   ]
  },
  {
   "cell_type": "code",
   "execution_count": 2,
   "metadata": {},
   "outputs": [],
   "source": [
    "# systematic labeling function\n",
    "def sys_label(df,paras):\n",
    "    if paras[\"method\"] == \"BollBand\":\n",
    "        df[\"mean\"]  = df[\"SP\"].rolling(look_back).mean()\n",
    "        df[\"width\"] = df[\"SP\"].rolling(look_back).std()*paras[\"multi\"]\n",
    "        df[\"label\"] = np.where(df['SP']>=df[\"mean\"]+df[\"width\"],4,\n",
    "                              np.where(df['SP']>=df[\"mean\"]+df[\"width\"]/2,3,\n",
    "                                      np.where(df['SP']>=df[\"mean\"]-df[\"width\"]/2,2,\n",
    "                                              np.where(df['SP']>=df[\"mean\"]-df[\"width\"],1,0))))\n",
    "    return df[[\"label\"]]"
   ]
  },
  {
   "cell_type": "markdown",
   "metadata": {},
   "source": [
    "### 1. Data preprocess"
   ]
  },
  {
   "cell_type": "code",
   "execution_count": 3,
   "metadata": {},
   "outputs": [
    {
     "name": "stderr",
     "output_type": "stream",
     "text": [
      "//anaconda3/lib/python3.7/site-packages/ipykernel_launcher.py:4: SettingWithCopyWarning: \n",
      "A value is trying to be set on a copy of a slice from a DataFrame.\n",
      "Try using .loc[row_indexer,col_indexer] = value instead\n",
      "\n",
      "See the caveats in the documentation: http://pandas.pydata.org/pandas-docs/stable/indexing.html#indexing-view-versus-copy\n",
      "  after removing the cwd from sys.path.\n",
      "//anaconda3/lib/python3.7/site-packages/ipykernel_launcher.py:5: SettingWithCopyWarning: \n",
      "A value is trying to be set on a copy of a slice from a DataFrame.\n",
      "Try using .loc[row_indexer,col_indexer] = value instead\n",
      "\n",
      "See the caveats in the documentation: http://pandas.pydata.org/pandas-docs/stable/indexing.html#indexing-view-versus-copy\n",
      "  \"\"\"\n",
      "//anaconda3/lib/python3.7/site-packages/ipykernel_launcher.py:9: SettingWithCopyWarning: \n",
      "A value is trying to be set on a copy of a slice from a DataFrame.\n",
      "Try using .loc[row_indexer,col_indexer] = value instead\n",
      "\n",
      "See the caveats in the documentation: http://pandas.pydata.org/pandas-docs/stable/indexing.html#indexing-view-versus-copy\n",
      "  if __name__ == '__main__':\n"
     ]
    }
   ],
   "source": [
    "# Data loading\n",
    "systematic_label = True\n",
    "look_back = 60\n",
    "raw = pd.read_excel(\"Data.xlsx\").set_index(\"Dates\")\n",
    "raw[\"SP\"]      = raw[\"SPX Index\"]\n",
    "raw[\"SP_Roll\"] = (raw[\"SP2 Index\"]-raw[\"SP1 Index\"])/raw[\"SP1 Index\"]\n",
    "raw[\"SP_Rets\"] = raw[\"SPX Index\"].pct_change()\n",
    "raw[\"SP_Vol\"]  = raw[\"SP_Rets\"].rolling(look_back).std()\n",
    "raw[\"Gold\"]    = raw[\"XAU Curncy\"]\n",
    "raw[\"Dollar\"]  = raw[\"DXY Curncy\"]\n",
    "raw[\"Fed01\"]   = raw[\"FEDL01 Index\"]\n",
    "raw[\"Spread_10_2\"]  = raw[\"USGG10YR Index\"]- raw[\"USGG2YR Index\"]\n",
    "raw[\"Spread_30_10\"] = raw[\"USGG30YR Index\"]- raw[\"USGG10YR Index\"]\n",
    "# Read label data\n",
    "if not systematic_label:\n",
    "    label = pd.read_excel(\"labeled.xlsx\").set_index(\"Dates\")\n",
    "else:\n",
    "    paras = {}\n",
    "    paras[\"method\"]   = \"BollBand\"\n",
    "    paras[\"lookback\"] = 120\n",
    "    paras[\"multi\"]    = 2\n",
    "    label = sys_label(raw[[\"SP\"]],paras)\n",
    "raw = raw.join(label,how='inner').dropna()"
   ]
  },
  {
   "cell_type": "code",
   "execution_count": 11,
   "metadata": {
    "scrolled": true
   },
   "outputs": [
    {
     "data": {
      "text/html": [
       "<style  type=\"text/css\" >\n",
       "    #T_22a50934_0b4e_11eb_b686_6c96cfd89d3brow0_col0 {\n",
       "            background-color:  #b40426;\n",
       "            color:  #f1f1f1;\n",
       "        }    #T_22a50934_0b4e_11eb_b686_6c96cfd89d3brow0_col1 {\n",
       "            background-color:  #3b4cc0;\n",
       "            color:  #f1f1f1;\n",
       "        }    #T_22a50934_0b4e_11eb_b686_6c96cfd89d3brow0_col2 {\n",
       "            background-color:  #8badfd;\n",
       "            color:  #000000;\n",
       "        }    #T_22a50934_0b4e_11eb_b686_6c96cfd89d3brow0_col3 {\n",
       "            background-color:  #9dbdff;\n",
       "            color:  #000000;\n",
       "        }    #T_22a50934_0b4e_11eb_b686_6c96cfd89d3brow0_col4 {\n",
       "            background-color:  #3b4cc0;\n",
       "            color:  #f1f1f1;\n",
       "        }    #T_22a50934_0b4e_11eb_b686_6c96cfd89d3brow0_col5 {\n",
       "            background-color:  #3b4cc0;\n",
       "            color:  #f1f1f1;\n",
       "        }    #T_22a50934_0b4e_11eb_b686_6c96cfd89d3brow1_col0 {\n",
       "            background-color:  #5b7ae5;\n",
       "            color:  #000000;\n",
       "        }    #T_22a50934_0b4e_11eb_b686_6c96cfd89d3brow1_col1 {\n",
       "            background-color:  #b40426;\n",
       "            color:  #f1f1f1;\n",
       "        }    #T_22a50934_0b4e_11eb_b686_6c96cfd89d3brow1_col2 {\n",
       "            background-color:  #94b6ff;\n",
       "            color:  #000000;\n",
       "        }    #T_22a50934_0b4e_11eb_b686_6c96cfd89d3brow1_col3 {\n",
       "            background-color:  #c6d6f1;\n",
       "            color:  #000000;\n",
       "        }    #T_22a50934_0b4e_11eb_b686_6c96cfd89d3brow1_col4 {\n",
       "            background-color:  #a1c0ff;\n",
       "            color:  #000000;\n",
       "        }    #T_22a50934_0b4e_11eb_b686_6c96cfd89d3brow1_col5 {\n",
       "            background-color:  #9bbcff;\n",
       "            color:  #000000;\n",
       "        }    #T_22a50934_0b4e_11eb_b686_6c96cfd89d3brow2_col0 {\n",
       "            background-color:  #82a6fb;\n",
       "            color:  #000000;\n",
       "        }    #T_22a50934_0b4e_11eb_b686_6c96cfd89d3brow2_col1 {\n",
       "            background-color:  #6b8df0;\n",
       "            color:  #000000;\n",
       "        }    #T_22a50934_0b4e_11eb_b686_6c96cfd89d3brow2_col2 {\n",
       "            background-color:  #b40426;\n",
       "            color:  #f1f1f1;\n",
       "        }    #T_22a50934_0b4e_11eb_b686_6c96cfd89d3brow2_col3 {\n",
       "            background-color:  #3b4cc0;\n",
       "            color:  #f1f1f1;\n",
       "        }    #T_22a50934_0b4e_11eb_b686_6c96cfd89d3brow2_col4 {\n",
       "            background-color:  #86a9fc;\n",
       "            color:  #000000;\n",
       "        }    #T_22a50934_0b4e_11eb_b686_6c96cfd89d3brow2_col5 {\n",
       "            background-color:  #d3dbe7;\n",
       "            color:  #000000;\n",
       "        }    #T_22a50934_0b4e_11eb_b686_6c96cfd89d3brow3_col0 {\n",
       "            background-color:  #94b6ff;\n",
       "            color:  #000000;\n",
       "        }    #T_22a50934_0b4e_11eb_b686_6c96cfd89d3brow3_col1 {\n",
       "            background-color:  #a9c6fd;\n",
       "            color:  #000000;\n",
       "        }    #T_22a50934_0b4e_11eb_b686_6c96cfd89d3brow3_col2 {\n",
       "            background-color:  #3b4cc0;\n",
       "            color:  #f1f1f1;\n",
       "        }    #T_22a50934_0b4e_11eb_b686_6c96cfd89d3brow3_col3 {\n",
       "            background-color:  #b40426;\n",
       "            color:  #f1f1f1;\n",
       "        }    #T_22a50934_0b4e_11eb_b686_6c96cfd89d3brow3_col4 {\n",
       "            background-color:  #9ebeff;\n",
       "            color:  #000000;\n",
       "        }    #T_22a50934_0b4e_11eb_b686_6c96cfd89d3brow3_col5 {\n",
       "            background-color:  #4e68d8;\n",
       "            color:  #000000;\n",
       "        }    #T_22a50934_0b4e_11eb_b686_6c96cfd89d3brow4_col0 {\n",
       "            background-color:  #3b4cc0;\n",
       "            color:  #f1f1f1;\n",
       "        }    #T_22a50934_0b4e_11eb_b686_6c96cfd89d3brow4_col1 {\n",
       "            background-color:  #82a6fb;\n",
       "            color:  #000000;\n",
       "        }    #T_22a50934_0b4e_11eb_b686_6c96cfd89d3brow4_col2 {\n",
       "            background-color:  #8fb1fe;\n",
       "            color:  #000000;\n",
       "        }    #T_22a50934_0b4e_11eb_b686_6c96cfd89d3brow4_col3 {\n",
       "            background-color:  #a5c3fe;\n",
       "            color:  #000000;\n",
       "        }    #T_22a50934_0b4e_11eb_b686_6c96cfd89d3brow4_col4 {\n",
       "            background-color:  #b40426;\n",
       "            color:  #f1f1f1;\n",
       "        }    #T_22a50934_0b4e_11eb_b686_6c96cfd89d3brow4_col5 {\n",
       "            background-color:  #bfd3f6;\n",
       "            color:  #000000;\n",
       "        }    #T_22a50934_0b4e_11eb_b686_6c96cfd89d3brow5_col0 {\n",
       "            background-color:  #3d50c3;\n",
       "            color:  #f1f1f1;\n",
       "        }    #T_22a50934_0b4e_11eb_b686_6c96cfd89d3brow5_col1 {\n",
       "            background-color:  #80a3fa;\n",
       "            color:  #000000;\n",
       "        }    #T_22a50934_0b4e_11eb_b686_6c96cfd89d3brow5_col2 {\n",
       "            background-color:  #d9dce1;\n",
       "            color:  #000000;\n",
       "        }    #T_22a50934_0b4e_11eb_b686_6c96cfd89d3brow5_col3 {\n",
       "            background-color:  #5a78e4;\n",
       "            color:  #000000;\n",
       "        }    #T_22a50934_0b4e_11eb_b686_6c96cfd89d3brow5_col4 {\n",
       "            background-color:  #c1d4f4;\n",
       "            color:  #000000;\n",
       "        }    #T_22a50934_0b4e_11eb_b686_6c96cfd89d3brow5_col5 {\n",
       "            background-color:  #b40426;\n",
       "            color:  #f1f1f1;\n",
       "        }</style><table id=\"T_22a50934_0b4e_11eb_b686_6c96cfd89d3b\" ><thead>    <tr>        <th class=\"blank level0\" ></th>        <th class=\"col_heading level0 col0\" >SP_Roll_chg</th>        <th class=\"col_heading level0 col1\" >SP_Vol_chg</th>        <th class=\"col_heading level0 col2\" >Gold_chg</th>        <th class=\"col_heading level0 col3\" >Dollar_chg</th>        <th class=\"col_heading level0 col4\" >Spread_10_2_chg</th>        <th class=\"col_heading level0 col5\" >Spread_30_10_chg</th>    </tr></thead><tbody>\n",
       "                <tr>\n",
       "                        <th id=\"T_22a50934_0b4e_11eb_b686_6c96cfd89d3blevel0_row0\" class=\"row_heading level0 row0\" >SP_Roll_chg</th>\n",
       "                        <td id=\"T_22a50934_0b4e_11eb_b686_6c96cfd89d3brow0_col0\" class=\"data row0 col0\" >1</td>\n",
       "                        <td id=\"T_22a50934_0b4e_11eb_b686_6c96cfd89d3brow0_col1\" class=\"data row0 col1\" >-0.24</td>\n",
       "                        <td id=\"T_22a50934_0b4e_11eb_b686_6c96cfd89d3brow0_col2\" class=\"data row0 col2\" >-0.087</td>\n",
       "                        <td id=\"T_22a50934_0b4e_11eb_b686_6c96cfd89d3brow0_col3\" class=\"data row0 col3\" >-0.017</td>\n",
       "                        <td id=\"T_22a50934_0b4e_11eb_b686_6c96cfd89d3brow0_col4\" class=\"data row0 col4\" >-0.39</td>\n",
       "                        <td id=\"T_22a50934_0b4e_11eb_b686_6c96cfd89d3brow0_col5\" class=\"data row0 col5\" >-0.38</td>\n",
       "            </tr>\n",
       "            <tr>\n",
       "                        <th id=\"T_22a50934_0b4e_11eb_b686_6c96cfd89d3blevel0_row1\" class=\"row_heading level0 row1\" >SP_Vol_chg</th>\n",
       "                        <td id=\"T_22a50934_0b4e_11eb_b686_6c96cfd89d3brow1_col0\" class=\"data row1 col0\" >-0.24</td>\n",
       "                        <td id=\"T_22a50934_0b4e_11eb_b686_6c96cfd89d3brow1_col1\" class=\"data row1 col1\" >1</td>\n",
       "                        <td id=\"T_22a50934_0b4e_11eb_b686_6c96cfd89d3brow1_col2\" class=\"data row1 col2\" >-0.051</td>\n",
       "                        <td id=\"T_22a50934_0b4e_11eb_b686_6c96cfd89d3brow1_col3\" class=\"data row1 col3\" >0.17</td>\n",
       "                        <td id=\"T_22a50934_0b4e_11eb_b686_6c96cfd89d3brow1_col4\" class=\"data row1 col4\" >0.031</td>\n",
       "                        <td id=\"T_22a50934_0b4e_11eb_b686_6c96cfd89d3brow1_col5\" class=\"data row1 col5\" >0.021</td>\n",
       "            </tr>\n",
       "            <tr>\n",
       "                        <th id=\"T_22a50934_0b4e_11eb_b686_6c96cfd89d3blevel0_row2\" class=\"row_heading level0 row2\" >Gold_chg</th>\n",
       "                        <td id=\"T_22a50934_0b4e_11eb_b686_6c96cfd89d3brow2_col0\" class=\"data row2 col0\" >-0.087</td>\n",
       "                        <td id=\"T_22a50934_0b4e_11eb_b686_6c96cfd89d3brow2_col1\" class=\"data row2 col1\" >-0.051</td>\n",
       "                        <td id=\"T_22a50934_0b4e_11eb_b686_6c96cfd89d3brow2_col2\" class=\"data row2 col2\" >1</td>\n",
       "                        <td id=\"T_22a50934_0b4e_11eb_b686_6c96cfd89d3brow2_col3\" class=\"data row2 col3\" >-0.44</td>\n",
       "                        <td id=\"T_22a50934_0b4e_11eb_b686_6c96cfd89d3brow2_col4\" class=\"data row2 col4\" >-0.073</td>\n",
       "                        <td id=\"T_22a50934_0b4e_11eb_b686_6c96cfd89d3brow2_col5\" class=\"data row2 col5\" >0.26</td>\n",
       "            </tr>\n",
       "            <tr>\n",
       "                        <th id=\"T_22a50934_0b4e_11eb_b686_6c96cfd89d3blevel0_row3\" class=\"row_heading level0 row3\" >Dollar_chg</th>\n",
       "                        <td id=\"T_22a50934_0b4e_11eb_b686_6c96cfd89d3brow3_col0\" class=\"data row3 col0\" >-0.017</td>\n",
       "                        <td id=\"T_22a50934_0b4e_11eb_b686_6c96cfd89d3brow3_col1\" class=\"data row3 col1\" >0.17</td>\n",
       "                        <td id=\"T_22a50934_0b4e_11eb_b686_6c96cfd89d3brow3_col2\" class=\"data row3 col2\" >-0.44</td>\n",
       "                        <td id=\"T_22a50934_0b4e_11eb_b686_6c96cfd89d3brow3_col3\" class=\"data row3 col3\" >1</td>\n",
       "                        <td id=\"T_22a50934_0b4e_11eb_b686_6c96cfd89d3brow3_col4\" class=\"data row3 col4\" >0.021</td>\n",
       "                        <td id=\"T_22a50934_0b4e_11eb_b686_6c96cfd89d3brow3_col5\" class=\"data row3 col5\" >-0.29</td>\n",
       "            </tr>\n",
       "            <tr>\n",
       "                        <th id=\"T_22a50934_0b4e_11eb_b686_6c96cfd89d3blevel0_row4\" class=\"row_heading level0 row4\" >Spread_10_2_chg</th>\n",
       "                        <td id=\"T_22a50934_0b4e_11eb_b686_6c96cfd89d3brow4_col0\" class=\"data row4 col0\" >-0.39</td>\n",
       "                        <td id=\"T_22a50934_0b4e_11eb_b686_6c96cfd89d3brow4_col1\" class=\"data row4 col1\" >0.031</td>\n",
       "                        <td id=\"T_22a50934_0b4e_11eb_b686_6c96cfd89d3brow4_col2\" class=\"data row4 col2\" >-0.073</td>\n",
       "                        <td id=\"T_22a50934_0b4e_11eb_b686_6c96cfd89d3brow4_col3\" class=\"data row4 col3\" >0.021</td>\n",
       "                        <td id=\"T_22a50934_0b4e_11eb_b686_6c96cfd89d3brow4_col4\" class=\"data row4 col4\" >1</td>\n",
       "                        <td id=\"T_22a50934_0b4e_11eb_b686_6c96cfd89d3brow4_col5\" class=\"data row4 col5\" >0.17</td>\n",
       "            </tr>\n",
       "            <tr>\n",
       "                        <th id=\"T_22a50934_0b4e_11eb_b686_6c96cfd89d3blevel0_row5\" class=\"row_heading level0 row5\" >Spread_30_10_chg</th>\n",
       "                        <td id=\"T_22a50934_0b4e_11eb_b686_6c96cfd89d3brow5_col0\" class=\"data row5 col0\" >-0.38</td>\n",
       "                        <td id=\"T_22a50934_0b4e_11eb_b686_6c96cfd89d3brow5_col1\" class=\"data row5 col1\" >0.021</td>\n",
       "                        <td id=\"T_22a50934_0b4e_11eb_b686_6c96cfd89d3brow5_col2\" class=\"data row5 col2\" >0.26</td>\n",
       "                        <td id=\"T_22a50934_0b4e_11eb_b686_6c96cfd89d3brow5_col3\" class=\"data row5 col3\" >-0.29</td>\n",
       "                        <td id=\"T_22a50934_0b4e_11eb_b686_6c96cfd89d3brow5_col4\" class=\"data row5 col4\" >0.17</td>\n",
       "                        <td id=\"T_22a50934_0b4e_11eb_b686_6c96cfd89d3brow5_col5\" class=\"data row5 col5\" >1</td>\n",
       "            </tr>\n",
       "    </tbody></table>"
      ],
      "text/plain": [
       "<pandas.io.formats.style.Styler at 0x1c3de32b00>"
      ]
     },
     "execution_count": 11,
     "metadata": {},
     "output_type": "execute_result"
    }
   ],
   "source": [
    "# data smoothing\n",
    "var_select = [\"SP_Roll\",\"SP_Vol\",\"Fed01\",\n",
    "              \"Gold\",\"Dollar\",\"Spread_10_2\",\n",
    "              \"Spread_30_10\"]\n",
    "for ticker in var_select:\n",
    "    if ticker != \"SP\":\n",
    "        raw[ticker+\"_Smooth\"] = savgol_filter(raw[ticker],51,3)\n",
    "# Compute changes(diffs or returns) in variables\n",
    "N = 30\n",
    "raw[\"SP_Vol_chg\"]  = raw[\"SP_Vol\"+\"_Smooth\"].rolling(N).apply(diffs,raw=False)\n",
    "raw[\"SP_Roll_chg\"] = raw[\"SP_Roll\"+\"_Smooth\"].rolling(N).apply(diffs,raw=False)\n",
    "raw[\"Fed01_chg\"]   = raw[\"Gold\"+\"_Smooth\"].rolling(N).apply(diffs,raw=False)\n",
    "raw[\"Gold_chg\"]    = raw[\"Gold\"+\"_Smooth\"].rolling(N).apply(rets,raw=False)\n",
    "raw[\"Dollar_chg\"]  = raw[\"Dollar\"+\"_Smooth\"].rolling(N).apply(rets,raw=False)\n",
    "raw[\"Spread_10_2_chg\"] = raw[\"Spread_10_2\"+\"_Smooth\"].rolling(N).apply(diffs,raw=False)\n",
    "raw[\"Spread_30_10_chg\"] = raw[\"Spread_30_10\"+\"_Smooth\"].rolling(N).apply(diffs,raw=False)\n",
    "# Peek into our dataset\n",
    "# correlation martrix\n",
    "# total_var_select = [\"SP_Roll_chg\",\"SP_Vol_chg\",\"Fed01_chg\",\n",
    "#                     \"Gold_chg\",\"Dollar_chg\",\"Spread_10_2_chg\",\n",
    "#                     \"Spread_30_10_chg\"]\n",
    "total_var_select = [\"SP_Roll_chg\",\"SP_Vol_chg\",\n",
    "                    \"Gold_chg\",\"Dollar_chg\",\"Spread_10_2_chg\",\n",
    "                    \"Spread_30_10_chg\"]\n",
    "addOn = [\"SP\",\"label\"]\n",
    "data = raw[total_var_select].dropna()\n",
    "corr = data.corr()\n",
    "corr.style.background_gradient(cmap='coolwarm').set_precision(2)"
   ]
  },
  {
   "cell_type": "code",
   "execution_count": 12,
   "metadata": {},
   "outputs": [],
   "source": [
    "# using Min-Max scaler to normalize data\n",
    "x = data.values\n",
    "idx = data.index\n",
    "cols = data.columns\n",
    "min_max_scaler = preprocessing.MinMaxScaler()\n",
    "x_scaled = min_max_scaler.fit_transform(x)\n",
    "normal_data = pd.DataFrame(x_scaled,index=idx,columns=cols)\n",
    "normal_data = normal_data.join(raw[addOn])"
   ]
  },
  {
   "cell_type": "code",
   "execution_count": 38,
   "metadata": {
    "scrolled": true
   },
   "outputs": [
    {
     "data": {
      "image/png": "[encoded data removed]",
      "text/plain": [
       "<Figure size 432x288 with 2 Axes>"
      ]
     },
     "metadata": {
      "needs_background": "light"
     },
     "output_type": "display_data"
    },
    {
     "name": "stdout",
     "output_type": "stream",
     "text": [
      "=======================\n",
      "Dev set shape:(783, 8)\n",
      "Test set shape:(108, 8)\n"
     ]
    }
   ],
   "source": [
    "# Seperating dev set and test set\n",
    "dev_start = normal_data.index.searchsorted(dt.datetime(2001, 1, 1))\n",
    "dev_end   = normal_data.index.searchsorted(dt.datetime(2004, 1, 1))\n",
    "tst_start = normal_data.index.searchsorted(dt.datetime(2004, 1, 1))\n",
    "tst_end   = normal_data.index.searchsorted(dt.datetime(2004, 6, 1))\n",
    "\n",
    "dev_set = normal_data.iloc[dev_start:dev_end]\n",
    "test_set = normal_data.iloc[tst_start:tst_end]\n",
    "# Quick showing of development set labeling\n",
    "fig,ax1 = plt.subplots()\n",
    "ax2 = ax1.twinx()\n",
    "ax1.plot(dev_set[\"SP\"], label = \"SP\",color='b')\n",
    "ax2.plot(dev_set.index,dev_set[\"label\"], label = \"label\",color='r')\n",
    "ax1.set_xlabel('Years')\n",
    "ax1.set_ylabel('SP data',color='b')\n",
    "ax2.set_ylabel('Label data',color='r')\n",
    "plt.show()\n",
    "print(\"=======================\")\n",
    "print(\"Dev set shape:{}\".format(dev_set.shape))\n",
    "print(\"Test set shape:{}\".format(test_set.shape))"
   ]
  },
  {
   "cell_type": "markdown",
   "metadata": {},
   "source": [
    "### 2. Compile model"
   ]
  },
  {
   "cell_type": "code",
   "execution_count": 39,
   "metadata": {},
   "outputs": [
    {
     "name": "stdout",
     "output_type": "stream",
     "text": [
      "Epoch 1/10\n",
      "25/25 [==============================] - 0s 766us/step - loss: 1.5500 - accuracy: 0.4112\n",
      "Epoch 2/10\n",
      "25/25 [==============================] - 0s 761us/step - loss: 1.4865 - accuracy: 0.4559\n",
      "Epoch 3/10\n",
      "25/25 [==============================] - 0s 724us/step - loss: 1.4465 - accuracy: 0.4559\n",
      "Epoch 4/10\n",
      "25/25 [==============================] - 0s 703us/step - loss: 1.4111 - accuracy: 0.4559\n",
      "Epoch 5/10\n",
      "25/25 [==============================] - 0s 783us/step - loss: 1.3811 - accuracy: 0.4559\n",
      "Epoch 6/10\n",
      "25/25 [==============================] - 0s 760us/step - loss: 1.3580 - accuracy: 0.4559\n",
      "Epoch 7/10\n",
      "25/25 [==============================] - 0s 692us/step - loss: 1.3387 - accuracy: 0.4559\n",
      "Epoch 8/10\n",
      "25/25 [==============================] - 0s 705us/step - loss: 1.3245 - accuracy: 0.4585\n",
      "Epoch 9/10\n",
      "25/25 [==============================] - 0s 911us/step - loss: 1.3125 - accuracy: 0.4623\n",
      "Epoch 10/10\n",
      "25/25 [==============================] - 0s 893us/step - loss: 1.3023 - accuracy: 0.4764\n"
     ]
    },
    {
     "data": {
      "text/plain": [
       "<tensorflow.python.keras.callbacks.History at 0x1c3e14ff98>"
      ]
     },
     "execution_count": 39,
     "metadata": {},
     "output_type": "execute_result"
    }
   ],
   "source": [
    "# model specification\n",
    "model = keras.Sequential([\n",
    "    keras.layers.Dense(10, input_shape=(len(total_var_select),)),\n",
    "    keras.layers.Dense(5),\n",
    "    keras.layers.Dense(5)\n",
    "])\n",
    "model.compile(optimizer='adam',\n",
    "              loss=tf.keras.losses.SparseCategoricalCrossentropy(from_logits=True),\n",
    "              metrics=['accuracy'])\n",
    "# train on dev set\n",
    "X = dev_set[total_var_select]\n",
    "y = dev_set['label']\n",
    "model.fit(X, y, epochs=10)"
   ]
  },
  {
   "cell_type": "markdown",
   "metadata": {},
   "source": [
    "#### Evaluate on dev set and predicte on test set"
   ]
  },
  {
   "cell_type": "code",
   "execution_count": 40,
   "metadata": {},
   "outputs": [
    {
     "name": "stdout",
     "output_type": "stream",
     "text": [
      "4/4 - 0s - loss: 1.3934 - accuracy: 0.4259\n",
      "Test accuracy:0.4259\n"
     ]
    }
   ],
   "source": [
    "X_test = test_set[total_var_select]\n",
    "y_test = test_set['label']\n",
    "test_loss, test_acc = model.evaluate(X_test,y_test,verbose=2)\n",
    "print('Test accuracy:{:0.4f}'.format(test_acc))"
   ]
  },
  {
   "cell_type": "markdown",
   "metadata": {},
   "source": [
    "### Evaluate model based on chaining validation"
   ]
  },
  {
   "cell_type": "code",
   "execution_count": null,
   "metadata": {},
   "outputs": [],
   "source": []
  }
 ],
 "metadata": {
  "kernelspec": {
   "display_name": "Python 3",
   "language": "python",
   "name": "python3"
  },
  "language_info": {
   "codemirror_mode": {
    "name": "ipython",
    "version": 3
   },
   "file_extension": ".py",
   "mimetype": "text/x-python",
   "name": "python",
   "nbconvert_exporter": "python",
   "pygments_lexer": "ipython3",
   "version": "3.8.3"
  }
 },
 "nbformat": 4,
 "nbformat_minor": 2
}
